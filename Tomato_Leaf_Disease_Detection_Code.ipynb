{
  "cells": [
    {
      "cell_type": "markdown",
      "metadata": {
        "id": "66936f12"
      },
      "source": [
        "# Tomato Leaf Disease Detection Project"
      ],
      "id": "66936f12"
    },
    {
      "cell_type": "markdown",
      "metadata": {
        "id": "3063961e"
      },
      "source": [
        "# Import"
      ],
      "id": "3063961e"
    },
    {
      "cell_type": "code",
      "execution_count": 1,
      "metadata": {
        "id": "24f131d1"
      },
      "outputs": [],
      "source": [
        "import numpy as np\n",
        "import matplotlib.pyplot as plt\n",
        "import tensorflow as tf\n",
        "import os\n",
        "from tensorflow.keras.preprocessing.image import ImageDataGenerator\n",
        "from tensorflow.keras.preprocessing import image\n",
        "from tensorflow.keras import layers, optimizers, models\n",
        "from tensorflow.keras.optimizers import Adam"
      ],
      "id": "24f131d1"
    },
    {
      "cell_type": "code",
      "execution_count": 2,
      "metadata": {
        "colab": {
          "base_uri": "https://localhost:8080/"
        },
        "id": "R6IeO40_zlbl",
        "outputId": "2c655de9-e563-41d2-fc7e-1f92767ed4c2"
      },
      "outputs": [
        {
          "output_type": "stream",
          "name": "stdout",
          "text": [
            "Mounted at /content/drive\n"
          ]
        }
      ],
      "source": [
        "from google.colab import drive\n",
        "drive.mount('/content/drive')"
      ],
      "id": "R6IeO40_zlbl"
    },
    {
      "cell_type": "code",
      "execution_count": null,
      "metadata": {
        "id": "KOOMTMMz2ZrM"
      },
      "outputs": [],
      "source": [
        "import zipfile\n",
        "\n",
        "zip_ref = zipfile.ZipFile(\"/content/drive/MyDrive/PlantVillage.zip\", 'r')\n",
        "zip_ref.extractall(\"/content/drive/MyDrive/Tomato leaves Dataset\")\n",
        "zip_ref.close()"
      ],
      "id": "KOOMTMMz2ZrM"
    },
    {
      "cell_type": "markdown",
      "metadata": {
        "id": "69f1fa92"
      },
      "source": [
        "# Load Data"
      ],
      "id": "69f1fa92"
    },
    {
      "cell_type": "code",
      "execution_count": 5,
      "metadata": {
        "id": "3dfbaff3"
      },
      "outputs": [],
      "source": [
        "data_path=\"/content/drive/MyDrive/Tomato Dataset\""
      ],
      "id": "3dfbaff3"
    },
    {
      "cell_type": "code",
      "execution_count": 6,
      "metadata": {
        "id": "Wz5FpT97BXaZ"
      },
      "outputs": [],
      "source": [
        "train_data_path=os.path.join(data_path, 'Train Data')\n",
        "val_data_path=os.path.join(data_path, 'Validation Data')\n",
        "test_data_path=os.path.join(data_path, \"Test Data\")"
      ],
      "id": "Wz5FpT97BXaZ"
    },
    {
      "cell_type": "code",
      "execution_count": 7,
      "metadata": {
        "colab": {
          "base_uri": "https://localhost:8080/"
        },
        "id": "c000204f",
        "outputId": "438cd304-2ca3-44e5-a488-2208245cce9b"
      },
      "outputs": [
        {
          "output_type": "execute_result",
          "data": {
            "text/plain": [
              "['Tomato__Target_Spot',\n",
              " 'Tomato__Tomato_mosaic_virus',\n",
              " 'Tomato__Tomato_YellowLeaf__Curl_Virus',\n",
              " 'Tomato_Bacterial_spot',\n",
              " 'Tomato_Early_blight',\n",
              " 'Tomato_healthy',\n",
              " 'Tomato_Late_blight',\n",
              " 'Tomato_Leaf_Mold',\n",
              " 'Tomato_Septoria_leaf_spot',\n",
              " 'Tomato_Spider_mites_Two_spotted_spider_mite']"
            ]
          },
          "metadata": {},
          "execution_count": 7
        }
      ],
      "source": [
        "names=os.listdir(train_data_path)\n",
        "names"
      ],
      "id": "c000204f"
    },
    {
      "cell_type": "code",
      "execution_count": 8,
      "metadata": {
        "id": "gwmncvPWBjyX"
      },
      "outputs": [],
      "source": [
        "def total_img(path,names):\n",
        "    count=0\n",
        "    for name in names:\n",
        "        size=len(os.listdir(os.path.join(path, name)))\n",
        "        count+=size\n",
        "    return count"
      ],
      "id": "gwmncvPWBjyX"
    },
    {
      "cell_type": "code",
      "execution_count": 9,
      "metadata": {
        "colab": {
          "base_uri": "https://localhost:8080/"
        },
        "id": "_Yipy1HbBlZ0",
        "outputId": "669ab8a1-408a-4278-d4fd-ae0a354b2e68"
      },
      "outputs": [
        {
          "output_type": "stream",
          "name": "stdout",
          "text": [
            "Total Training Images:  12177\n",
            "Total Validation Images:  3198\n",
            "Total Test Images:  637\n"
          ]
        }
      ],
      "source": [
        "print(\"Total Training Images: \", total_img(train_data_path, names))\n",
        "print(\"Total Validation Images: \", total_img(val_data_path, names))\n",
        "print(\"Total Test Images: \", total_img(test_data_path, names))"
      ],
      "id": "_Yipy1HbBlZ0"
    },
    {
      "cell_type": "markdown",
      "metadata": {
        "id": "cd7f8d28"
      },
      "source": [
        "# Data preprocessing"
      ],
      "id": "cd7f8d28"
    },
    {
      "cell_type": "markdown",
      "metadata": {
        "id": "173aadbc"
      },
      "source": [
        "# Using ImageDataGenerator to read images from directories"
      ],
      "id": "173aadbc"
    },
    {
      "cell_type": "code",
      "execution_count": 10,
      "metadata": {
        "id": "9883301e"
      },
      "outputs": [],
      "source": [
        "datagenerator=ImageDataGenerator(\n",
        "                             rescale=1./255,\n",
        "                             rotation_range=40,\n",
        "                             width_shift_range=0.2,\n",
        "                             height_shift_range=0.2,\n",
        "                             zoom_range=0.2,\n",
        "                             shear_range=0.2,\n",
        "                             horizontal_flip=True,\n",
        "                             fill_mode='nearest')"
      ],
      "id": "9883301e"
    },
    {
      "cell_type": "code",
      "execution_count": 11,
      "metadata": {
        "id": "bded4a20",
        "colab": {
          "base_uri": "https://localhost:8080/"
        },
        "outputId": "1ea74d5d-ef38-41c0-c60d-6c5f8662bc15"
      },
      "outputs": [
        {
          "output_type": "stream",
          "name": "stdout",
          "text": [
            "Found 12176 images belonging to 10 classes.\n"
          ]
        }
      ],
      "source": [
        "train_gen= datagenerator.flow_from_directory(\n",
        "                                              train_data_path,\n",
        "                                              batch_size=50,\n",
        "                                              target_size=(160,160),\n",
        "                                              class_mode='categorical'\n",
        "                                            )"
      ],
      "id": "bded4a20"
    },
    {
      "cell_type": "code",
      "execution_count": 12,
      "metadata": {
        "id": "Q8jMEzJ0C0o7",
        "colab": {
          "base_uri": "https://localhost:8080/"
        },
        "outputId": "343a17ba-0960-41c5-cef3-7d5315ac311a"
      },
      "outputs": [
        {
          "output_type": "stream",
          "name": "stdout",
          "text": [
            "Found 3198 images belonging to 10 classes.\n"
          ]
        }
      ],
      "source": [
        "val_gen= datagenerator.flow_from_directory(\n",
        "                                            val_data_path,\n",
        "                                            target_size=(160,160),\n",
        "                                            batch_size=30,\n",
        "                                            class_mode='categorical'\n",
        "                                        )"
      ],
      "id": "Q8jMEzJ0C0o7"
    },
    {
      "cell_type": "code",
      "execution_count": 13,
      "metadata": {
        "id": "f895ff36",
        "colab": {
          "base_uri": "https://localhost:8080/"
        },
        "outputId": "7aa53748-9b1c-4d50-a5b4-156ed792b37f"
      },
      "outputs": [
        {
          "output_type": "execute_result",
          "data": {
            "text/plain": [
              "{'Tomato_Bacterial_spot': 0,\n",
              " 'Tomato_Early_blight': 1,\n",
              " 'Tomato_Late_blight': 2,\n",
              " 'Tomato_Leaf_Mold': 3,\n",
              " 'Tomato_Septoria_leaf_spot': 4,\n",
              " 'Tomato_Spider_mites_Two_spotted_spider_mite': 5,\n",
              " 'Tomato__Target_Spot': 6,\n",
              " 'Tomato__Tomato_YellowLeaf__Curl_Virus': 7,\n",
              " 'Tomato__Tomato_mosaic_virus': 8,\n",
              " 'Tomato_healthy': 9}"
            ]
          },
          "metadata": {},
          "execution_count": 13
        }
      ],
      "source": [
        "labels=train_gen.class_indices\n",
        "labels"
      ],
      "id": "f895ff36"
    },
    {
      "cell_type": "markdown",
      "metadata": {
        "id": "2bdb969f"
      },
      "source": [
        "# Network Architecture"
      ],
      "id": "2bdb969f"
    },
    {
      "cell_type": "code",
      "execution_count": 20,
      "metadata": {
        "id": "FRgsHvQoaXoG"
      },
      "outputs": [],
      "source": [
        "model=models.Sequential()\n",
        "model.add(layers.Conv2D(32, (3,3) , activation='relu', input_shape=(160,160,3)))\n",
        "model.add(layers.MaxPooling2D((2,2)))\n",
        "model.add(layers.Conv2D(64, (3,3),  activation='relu'))\n",
        "model.add(layers.MaxPooling2D((2,2)))\n",
        "model.add(layers.Conv2D(128, (5,5), activation='relu'))\n",
        "model.add(layers.MaxPooling2D((2,2)))\n",
        "model.add(layers.Conv2D(128, (5,5),activation='relu'))\n",
        "model.add(layers.MaxPooling2D((2,2)))\n",
        "model.add(layers.Flatten())\n",
        "model.add(layers.Dropout(0.5)) \n",
        "model.add(layers.Dense(256, activation='relu'))\n",
        "model.add(layers.Dropout(0.2))\n",
        "model.add(layers.Dense(128, activation='relu'))\n",
        "model.add(layers.Dropout(0.1))\n",
        "model.add(layers.Dense(10, activation='softmax'))\n",
        "\n",
        "model.compile(optimizer='Adam', loss='categorical_crossentropy', metrics=['acc'])"
      ],
      "id": "FRgsHvQoaXoG"
    },
    {
      "cell_type": "code",
      "execution_count": 21,
      "metadata": {
        "id": "af2178a9",
        "colab": {
          "base_uri": "https://localhost:8080/"
        },
        "outputId": "5f74ad2b-2369-4377-886e-5a43fc50b24a"
      },
      "outputs": [
        {
          "output_type": "stream",
          "name": "stdout",
          "text": [
            "Model: \"sequential_2\"\n",
            "_________________________________________________________________\n",
            " Layer (type)                Output Shape              Param #   \n",
            "=================================================================\n",
            " conv2d_8 (Conv2D)           (None, 158, 158, 32)      896       \n",
            "                                                                 \n",
            " max_pooling2d_8 (MaxPooling  (None, 79, 79, 32)       0         \n",
            " 2D)                                                             \n",
            "                                                                 \n",
            " conv2d_9 (Conv2D)           (None, 77, 77, 64)        18496     \n",
            "                                                                 \n",
            " max_pooling2d_9 (MaxPooling  (None, 38, 38, 64)       0         \n",
            " 2D)                                                             \n",
            "                                                                 \n",
            " conv2d_10 (Conv2D)          (None, 34, 34, 128)       204928    \n",
            "                                                                 \n",
            " max_pooling2d_10 (MaxPoolin  (None, 17, 17, 128)      0         \n",
            " g2D)                                                            \n",
            "                                                                 \n",
            " conv2d_11 (Conv2D)          (None, 13, 13, 128)       409728    \n",
            "                                                                 \n",
            " max_pooling2d_11 (MaxPoolin  (None, 6, 6, 128)        0         \n",
            " g2D)                                                            \n",
            "                                                                 \n",
            " flatten_2 (Flatten)         (None, 4608)              0         \n",
            "                                                                 \n",
            " dropout_6 (Dropout)         (None, 4608)              0         \n",
            "                                                                 \n",
            " dense_6 (Dense)             (None, 256)               1179904   \n",
            "                                                                 \n",
            " dropout_7 (Dropout)         (None, 256)               0         \n",
            "                                                                 \n",
            " dense_7 (Dense)             (None, 128)               32896     \n",
            "                                                                 \n",
            " dropout_8 (Dropout)         (None, 128)               0         \n",
            "                                                                 \n",
            " dense_8 (Dense)             (None, 10)                1290      \n",
            "                                                                 \n",
            "=================================================================\n",
            "Total params: 1,848,138\n",
            "Trainable params: 1,848,138\n",
            "Non-trainable params: 0\n",
            "_________________________________________________________________\n"
          ]
        }
      ],
      "source": [
        "model.summary()"
      ],
      "id": "af2178a9"
    },
    {
      "cell_type": "code",
      "execution_count": 22,
      "metadata": {
        "id": "du0C8ElmFsm-"
      },
      "outputs": [],
      "source": [
        "class mycallback(tf.keras.callbacks.Callback):\n",
        "    def on_epoch_end(self, epoch, logs={}):\n",
        "        if logs.get(\"val_acc\") is not None and logs.get('val_acc')>=0.97:\n",
        "            print(\"\\n Reached 97 validation accuracy so cancelling training\")\n",
        "            self.model.stop_training=True\n",
        "\n",
        "callbacks=mycallback()"
      ],
      "id": "du0C8ElmFsm-"
    },
    {
      "cell_type": "markdown",
      "metadata": {
        "id": "4613c9e4"
      },
      "source": [
        "# Training"
      ],
      "id": "4613c9e4"
    },
    {
      "cell_type": "code",
      "execution_count": 24,
      "metadata": {
        "colab": {
          "base_uri": "https://localhost:8080/"
        },
        "id": "7814912b",
        "scrolled": false,
        "outputId": "0e371111-c1db-491a-ebad-bdf4b7ab9327"
      },
      "outputs": [
        {
          "output_type": "stream",
          "name": "stdout",
          "text": [
            "Epoch 1/80\n",
            "244/244 [==============================] - 5669s 23s/step - loss: 1.8166 - acc: 0.3408 - val_loss: 1.4535 - val_acc: 0.4531\n",
            "Epoch 2/80\n",
            "244/244 [==============================] - 149s 611ms/step - loss: 1.2308 - acc: 0.5724 - val_loss: 0.9299 - val_acc: 0.6723\n",
            "Epoch 3/80\n",
            "244/244 [==============================] - 149s 611ms/step - loss: 0.9374 - acc: 0.6781 - val_loss: 0.7791 - val_acc: 0.7342\n",
            "Epoch 4/80\n",
            "244/244 [==============================] - 150s 617ms/step - loss: 0.7557 - acc: 0.7355 - val_loss: 0.7698 - val_acc: 0.7389\n",
            "Epoch 5/80\n",
            "244/244 [==============================] - 147s 603ms/step - loss: 0.6161 - acc: 0.7838 - val_loss: 0.4820 - val_acc: 0.8371\n",
            "Epoch 6/80\n",
            "244/244 [==============================] - 150s 616ms/step - loss: 0.5567 - acc: 0.8051 - val_loss: 0.4126 - val_acc: 0.8621\n",
            "Epoch 7/80\n",
            "244/244 [==============================] - 159s 653ms/step - loss: 0.5255 - acc: 0.8153 - val_loss: 0.4497 - val_acc: 0.8430\n",
            "Epoch 8/80\n",
            "244/244 [==============================] - 148s 609ms/step - loss: 0.4719 - acc: 0.8340 - val_loss: 0.4415 - val_acc: 0.8487\n",
            "Epoch 9/80\n",
            "244/244 [==============================] - 146s 598ms/step - loss: 0.4271 - acc: 0.8504 - val_loss: 0.3870 - val_acc: 0.8699\n",
            "Epoch 10/80\n",
            "244/244 [==============================] - 145s 594ms/step - loss: 0.3975 - acc: 0.8637 - val_loss: 0.4687 - val_acc: 0.8512\n",
            "Epoch 11/80\n",
            "244/244 [==============================] - 146s 600ms/step - loss: 0.3638 - acc: 0.8745 - val_loss: 0.3047 - val_acc: 0.9021\n",
            "Epoch 12/80\n",
            "244/244 [==============================] - 146s 599ms/step - loss: 0.3428 - acc: 0.8808 - val_loss: 0.4424 - val_acc: 0.8508\n",
            "Epoch 13/80\n",
            "244/244 [==============================] - 143s 587ms/step - loss: 0.3230 - acc: 0.8870 - val_loss: 0.2796 - val_acc: 0.9006\n",
            "Epoch 14/80\n",
            "244/244 [==============================] - 158s 647ms/step - loss: 0.3004 - acc: 0.8941 - val_loss: 0.2783 - val_acc: 0.9096\n",
            "Epoch 15/80\n",
            "244/244 [==============================] - 145s 596ms/step - loss: 0.2993 - acc: 0.8977 - val_loss: 0.3164 - val_acc: 0.8956\n",
            "Epoch 16/80\n",
            "244/244 [==============================] - 151s 618ms/step - loss: 0.2763 - acc: 0.9050 - val_loss: 0.2947 - val_acc: 0.8990\n",
            "Epoch 17/80\n",
            "244/244 [==============================] - 149s 610ms/step - loss: 0.2694 - acc: 0.9061 - val_loss: 0.2336 - val_acc: 0.9281\n",
            "Epoch 18/80\n",
            "244/244 [==============================] - 150s 615ms/step - loss: 0.2465 - acc: 0.9147 - val_loss: 0.2528 - val_acc: 0.9268\n",
            "Epoch 19/80\n",
            "244/244 [==============================] - 147s 602ms/step - loss: 0.2540 - acc: 0.9114 - val_loss: 0.2718 - val_acc: 0.9137\n",
            "Epoch 20/80\n",
            "244/244 [==============================] - 149s 611ms/step - loss: 0.2495 - acc: 0.9152 - val_loss: 0.2139 - val_acc: 0.9328\n",
            "Epoch 21/80\n",
            "244/244 [==============================] - 146s 597ms/step - loss: 0.2262 - acc: 0.9228 - val_loss: 0.2414 - val_acc: 0.9231\n",
            "Epoch 22/80\n",
            "244/244 [==============================] - 145s 596ms/step - loss: 0.2314 - acc: 0.9216 - val_loss: 0.1772 - val_acc: 0.9393\n",
            "Epoch 23/80\n",
            "244/244 [==============================] - 158s 648ms/step - loss: 0.2056 - acc: 0.9285 - val_loss: 0.2101 - val_acc: 0.9256\n",
            "Epoch 24/80\n",
            "244/244 [==============================] - 146s 599ms/step - loss: 0.2132 - acc: 0.9297 - val_loss: 0.1601 - val_acc: 0.9450\n",
            "Epoch 25/80\n",
            "244/244 [==============================] - 145s 593ms/step - loss: 0.2017 - acc: 0.9315 - val_loss: 0.1874 - val_acc: 0.9375\n",
            "Epoch 26/80\n",
            "244/244 [==============================] - 157s 645ms/step - loss: 0.2090 - acc: 0.9299 - val_loss: 0.1565 - val_acc: 0.9481\n",
            "Epoch 27/80\n",
            "244/244 [==============================] - 144s 589ms/step - loss: 0.2089 - acc: 0.9267 - val_loss: 0.1462 - val_acc: 0.9534\n",
            "Epoch 28/80\n",
            "244/244 [==============================] - 144s 592ms/step - loss: 0.1944 - acc: 0.9329 - val_loss: 0.2237 - val_acc: 0.9293\n",
            "Epoch 29/80\n",
            "244/244 [==============================] - 143s 585ms/step - loss: 0.1960 - acc: 0.9333 - val_loss: 0.2297 - val_acc: 0.9284\n",
            "Epoch 30/80\n",
            "244/244 [==============================] - 158s 649ms/step - loss: 0.1843 - acc: 0.9367 - val_loss: 0.2404 - val_acc: 0.9275\n",
            "Epoch 31/80\n",
            "244/244 [==============================] - 148s 606ms/step - loss: 0.2123 - acc: 0.9279 - val_loss: 0.1830 - val_acc: 0.9428\n",
            "Epoch 32/80\n",
            "244/244 [==============================] - 158s 650ms/step - loss: 0.1592 - acc: 0.9457 - val_loss: 0.1891 - val_acc: 0.9453\n",
            "Epoch 33/80\n",
            "244/244 [==============================] - 146s 599ms/step - loss: 0.1829 - acc: 0.9386 - val_loss: 0.1967 - val_acc: 0.9406\n",
            "Epoch 34/80\n",
            "244/244 [==============================] - 147s 603ms/step - loss: 0.1620 - acc: 0.9460 - val_loss: 0.1801 - val_acc: 0.9428\n",
            "Epoch 35/80\n",
            "244/244 [==============================] - 149s 612ms/step - loss: 0.1630 - acc: 0.9425 - val_loss: 0.1760 - val_acc: 0.9518\n",
            "Epoch 36/80\n",
            "244/244 [==============================] - 147s 602ms/step - loss: 0.1630 - acc: 0.9452 - val_loss: 0.1449 - val_acc: 0.9550\n",
            "Epoch 37/80\n",
            "244/244 [==============================] - 144s 591ms/step - loss: 0.1790 - acc: 0.9391 - val_loss: 0.1272 - val_acc: 0.9656\n",
            "Epoch 38/80\n",
            "244/244 [==============================] - 144s 593ms/step - loss: 0.1555 - acc: 0.9493 - val_loss: 0.2010 - val_acc: 0.9468\n",
            "Epoch 39/80\n",
            "244/244 [==============================] - 146s 600ms/step - loss: 0.1668 - acc: 0.9430 - val_loss: 0.2134 - val_acc: 0.9415\n",
            "Epoch 40/80\n",
            "244/244 [==============================] - 146s 598ms/step - loss: 0.1588 - acc: 0.9447 - val_loss: 0.1817 - val_acc: 0.9509\n",
            "Epoch 41/80\n",
            "244/244 [==============================] - 147s 603ms/step - loss: 0.1630 - acc: 0.9440 - val_loss: 0.1310 - val_acc: 0.9631\n",
            "Epoch 42/80\n",
            "244/244 [==============================] - 148s 605ms/step - loss: 0.1600 - acc: 0.9474 - val_loss: 0.1630 - val_acc: 0.9497\n",
            "Epoch 43/80\n",
            "244/244 [==============================] - 149s 611ms/step - loss: 0.1529 - acc: 0.9504 - val_loss: 0.1921 - val_acc: 0.9565\n",
            "Epoch 44/80\n",
            "244/244 [==============================] - 147s 604ms/step - loss: 0.1560 - acc: 0.9491 - val_loss: 0.1757 - val_acc: 0.9512\n",
            "Epoch 45/80\n",
            "244/244 [==============================] - 148s 608ms/step - loss: 0.1434 - acc: 0.9521 - val_loss: 0.1517 - val_acc: 0.9619\n",
            "Epoch 46/80\n",
            "244/244 [==============================] - 146s 597ms/step - loss: 0.1490 - acc: 0.9488 - val_loss: 0.1571 - val_acc: 0.9578\n",
            "Epoch 47/80\n",
            "244/244 [==============================] - 159s 651ms/step - loss: 0.1388 - acc: 0.9546 - val_loss: 0.1552 - val_acc: 0.9534\n",
            "Epoch 48/80\n",
            "244/244 [==============================] - 146s 599ms/step - loss: 0.1428 - acc: 0.9526 - val_loss: 0.1609 - val_acc: 0.9497\n",
            "Epoch 49/80\n",
            "244/244 [==============================] - 146s 598ms/step - loss: 0.1500 - acc: 0.9510 - val_loss: 0.1849 - val_acc: 0.9578\n",
            "Epoch 50/80\n",
            "244/244 [==============================] - 146s 600ms/step - loss: 0.1458 - acc: 0.9515 - val_loss: 0.1387 - val_acc: 0.9650\n",
            "Epoch 51/80\n",
            "244/244 [==============================] - 147s 604ms/step - loss: 0.1303 - acc: 0.9566 - val_loss: 0.1864 - val_acc: 0.9493\n",
            "Epoch 52/80\n",
            "244/244 [==============================] - 160s 658ms/step - loss: 0.1354 - acc: 0.9537 - val_loss: 0.1207 - val_acc: 0.9640\n",
            "Epoch 53/80\n",
            "244/244 [==============================] - 147s 605ms/step - loss: 0.1240 - acc: 0.9571 - val_loss: 0.1368 - val_acc: 0.9597\n",
            "Epoch 54/80\n",
            "244/244 [==============================] - 146s 598ms/step - loss: 0.1289 - acc: 0.9556 - val_loss: 0.1275 - val_acc: 0.9625\n",
            "Epoch 55/80\n",
            "244/244 [==============================] - 145s 595ms/step - loss: 0.1206 - acc: 0.9596 - val_loss: 0.1128 - val_acc: 0.9687\n",
            "Epoch 56/80\n",
            "244/244 [==============================] - 146s 598ms/step - loss: 0.1409 - acc: 0.9552 - val_loss: 0.1638 - val_acc: 0.9593\n",
            "Epoch 57/80\n",
            "244/244 [==============================] - 145s 594ms/step - loss: 0.1112 - acc: 0.9609 - val_loss: 0.1379 - val_acc: 0.9650\n",
            "Epoch 58/80\n",
            "244/244 [==============================] - 145s 594ms/step - loss: 0.1185 - acc: 0.9598 - val_loss: 0.1538 - val_acc: 0.9634\n",
            "Epoch 59/80\n",
            "244/244 [==============================] - 146s 598ms/step - loss: 0.1364 - acc: 0.9571 - val_loss: 0.2069 - val_acc: 0.9462\n",
            "Epoch 60/80\n",
            "244/244 [==============================] - 144s 593ms/step - loss: 0.1183 - acc: 0.9609 - val_loss: 0.1220 - val_acc: 0.9644\n",
            "Epoch 61/80\n",
            "244/244 [==============================] - 143s 588ms/step - loss: 0.1254 - acc: 0.9596 - val_loss: 0.1485 - val_acc: 0.9606\n",
            "Epoch 62/80\n",
            "244/244 [==============================] - 145s 597ms/step - loss: 0.1121 - acc: 0.9635 - val_loss: 0.1310 - val_acc: 0.9681\n",
            "Epoch 63/80\n",
            "244/244 [==============================] - 144s 592ms/step - loss: 0.1200 - acc: 0.9609 - val_loss: 0.1502 - val_acc: 0.9619\n",
            "Epoch 64/80\n",
            "244/244 [==============================] - 143s 588ms/step - loss: 0.1192 - acc: 0.9591 - val_loss: 0.1211 - val_acc: 0.9644\n",
            "Epoch 65/80\n",
            "244/244 [==============================] - 155s 638ms/step - loss: 0.1352 - acc: 0.9557 - val_loss: 0.1249 - val_acc: 0.9637\n",
            "Epoch 66/80\n",
            "244/244 [==============================] - ETA: 0s - loss: 0.1155 - acc: 0.9616\n",
            " Reached 97 validation accuracy so cancelling training\n",
            "244/244 [==============================] - 143s 586ms/step - loss: 0.1155 - acc: 0.9616 - val_loss: 0.2503 - val_acc: 0.9703\n"
          ]
        }
      ],
      "source": [
        "history=model.fit(train_gen, epochs=80, validation_data=val_gen, callbacks=[callbacks])"
      ],
      "id": "7814912b"
    },
    {
      "cell_type": "code",
      "execution_count": 25,
      "metadata": {
        "colab": {
          "base_uri": "https://localhost:8080/",
          "height": 281
        },
        "id": "7d4c8dbf",
        "outputId": "70555898-8087-4948-b030-53fd97a872f2"
      },
      "outputs": [
        {
          "output_type": "display_data",
          "data": {
            "text/plain": [
              "<Figure size 432x288 with 1 Axes>"
            ],
            "image/png": "[encoded data removed]"
          },
          "metadata": {
            "needs_background": "light"
          }
        }
      ],
      "source": [
        "acc = history.history['acc']\n",
        "val_acc = history.history['val_acc']\n",
        "epochs = range(1, len(acc) + 1)\n",
        "plt.plot(epochs, acc, 'bo', label='Training acc')\n",
        "plt.plot(epochs, val_acc, 'b', label='Validation acc')\n",
        "plt.title('Training and validation accuracy')\n",
        "plt.legend()\n",
        "plt.show()"
      ],
      "id": "7d4c8dbf"
    },
    {
      "cell_type": "code",
      "execution_count": 26,
      "metadata": {
        "colab": {
          "base_uri": "https://localhost:8080/",
          "height": 281
        },
        "id": "u1P1PBSxBKdO",
        "outputId": "9e46e51e-ef57-485d-f6c2-549821fc1e0a"
      },
      "outputs": [
        {
          "output_type": "display_data",
          "data": {
            "text/plain": [
              "<Figure size 432x288 with 1 Axes>"
            ],
            "image/png": "[encoded data removed]"
          },
          "metadata": {
            "needs_background": "light"
          }
        }
      ],
      "source": [
        "loss=history.history['loss']\n",
        "val_loss=history.history['val_loss']\n",
        "epochs= range(1,len(loss)+1)\n",
        "plt.plot(epochs, loss, 'bo', label=\"Training Loss\")\n",
        "plt.plot(epochs, val_loss, 'b', label=\"Validation Loss\" )\n",
        "plt.title(\"Training and Validation Loss\")\n",
        "plt.legend()\n",
        "plt.show()"
      ],
      "id": "u1P1PBSxBKdO"
    },
    {
      "cell_type": "code",
      "execution_count": 32,
      "metadata": {
        "id": "dgdsBb-FC4Sb"
      },
      "outputs": [],
      "source": [
        "model.save(\"/content/drive/MyDrive/Tomato Disease Detection augmented model new.h5\")"
      ],
      "id": "dgdsBb-FC4Sb"
    },
    {
      "cell_type": "code",
      "execution_count": 28,
      "metadata": {
        "id": "054ceb16"
      },
      "outputs": [],
      "source": [
        "testdatagen=ImageDataGenerator(rescale=1./255)"
      ],
      "id": "054ceb16"
    },
    {
      "cell_type": "code",
      "execution_count": 29,
      "metadata": {
        "colab": {
          "base_uri": "https://localhost:8080/"
        },
        "id": "fzjxnFBgIwVD",
        "outputId": "edcf7a2c-a90c-44dc-f844-f208fbeb65ec"
      },
      "outputs": [
        {
          "output_type": "stream",
          "name": "stdout",
          "text": [
            "Found 637 images belonging to 10 classes.\n"
          ]
        }
      ],
      "source": [
        "test_generator=testdatagen.flow_from_directory(\n",
        "                                            test_data_path,\n",
        "                                            batch_size=10,\n",
        "                                            target_size=(160,160),\n",
        "                                            class_mode='categorical'\n",
        "                                            )"
      ],
      "id": "fzjxnFBgIwVD"
    },
    {
      "cell_type": "code",
      "execution_count": 30,
      "metadata": {
        "colab": {
          "base_uri": "https://localhost:8080/"
        },
        "id": "1pFY5_5fIwkx",
        "outputId": "e45304b3-1b83-490d-e74e-b98a56b0f475"
      },
      "outputs": [
        {
          "output_type": "stream",
          "name": "stdout",
          "text": [
            "64/64 [==============================] - 200s 3s/step - loss: 0.0669 - acc: 0.9796\n"
          ]
        }
      ],
      "source": [
        "loss,acc= model.evaluate(test_generator)"
      ],
      "id": "1pFY5_5fIwkx"
    },
    {
      "cell_type": "code",
      "execution_count": 31,
      "metadata": {
        "colab": {
          "base_uri": "https://localhost:8080/"
        },
        "id": "a53m9KU0I4pu",
        "outputId": "246d1a81-07f2-4e54-fac4-369318e9862a"
      },
      "outputs": [
        {
          "output_type": "stream",
          "name": "stdout",
          "text": [
            "Test Data Loss:  0.06690479069948196\n",
            "Test Data Accuracy:  0.9795918464660645\n"
          ]
        }
      ],
      "source": [
        "print(\"Test Data Loss: \",loss)\n",
        "print(\"Test Data Accuracy: \",acc)"
      ],
      "id": "a53m9KU0I4pu"
    },
    {
      "cell_type": "code",
      "execution_count": null,
      "metadata": {
        "id": "hI160QdmI67H"
      },
      "outputs": [],
      "source": [],
      "id": "hI160QdmI67H"
    }
  ],
  "metadata": {
    "accelerator": "GPU",
    "colab": {
      "provenance": []
    },
    "gpuClass": "standard",
    "kernelspec": {
      "display_name": "Python 3 (ipykernel)",
      "language": "python",
      "name": "python3"
    },
    "language_info": {
      "codemirror_mode": {
        "name": "ipython",
        "version": 3
      },
      "file_extension": ".py",
      "mimetype": "text/x-python",
      "name": "python",
      "nbconvert_exporter": "python",
      "pygments_lexer": "ipython3",
      "version": "3.7.13"
    }
  },
  "nbformat": 4,
  "nbformat_minor": 5
}